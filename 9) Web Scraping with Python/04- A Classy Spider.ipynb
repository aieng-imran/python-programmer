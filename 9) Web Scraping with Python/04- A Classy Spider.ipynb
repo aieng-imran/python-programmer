{
 "cells": [
  {
   "cell_type": "code",
   "execution_count": 1,
   "id": "b2555721",
   "metadata": {},
   "outputs": [],
   "source": [
    "# Consult to \"NOTES\" section "
   ]
  },
  {
   "cell_type": "code",
   "execution_count": null,
   "id": "b5d139cb",
   "metadata": {},
   "outputs": [],
   "source": [
    "# Scrapy for Beginners - A Complete How To Example Web Scraping Project\n",
    "# https://www.youtube.com/watch?v=s4jtkzHhLzY"
   ]
  }
 ],
 "metadata": {
  "kernelspec": {
   "display_name": "Python 3 (ipykernel)",
   "language": "python",
   "name": "python3"
  },
  "language_info": {
   "codemirror_mode": {
    "name": "ipython",
    "version": 3
   },
   "file_extension": ".py",
   "mimetype": "text/x-python",
   "name": "python",
   "nbconvert_exporter": "python",
   "pygments_lexer": "ipython3",
   "version": "3.9.7"
  }
 },
 "nbformat": 4,
 "nbformat_minor": 5
}
