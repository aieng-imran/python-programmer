{
 "cells": [
  {
   "cell_type": "code",
   "execution_count": 1,
   "id": "e860bd11",
   "metadata": {},
   "outputs": [],
   "source": [
    "# Consult to \"NOTES\" section for notes"
   ]
  },
  {
   "cell_type": "code",
   "execution_count": null,
   "id": "c32fff90",
   "metadata": {},
   "outputs": [],
   "source": [
    "# Learn Every CSS Selector In 20 Minutes\n",
    "# https://www.youtube.com/watch?v=l1mER1bV0N0 "
   ]
  },
  {
   "cell_type": "code",
   "execution_count": null,
   "id": "1cfc4185",
   "metadata": {},
   "outputs": [],
   "source": []
  }
 ],
 "metadata": {
  "kernelspec": {
   "display_name": "Python 3 (ipykernel)",
   "language": "python",
   "name": "python3"
  },
  "language_info": {
   "codemirror_mode": {
    "name": "ipython",
    "version": 3
   },
   "file_extension": ".py",
   "mimetype": "text/x-python",
   "name": "python",
   "nbconvert_exporter": "python",
   "pygments_lexer": "ipython3",
   "version": "3.9.7"
  }
 },
 "nbformat": 4,
 "nbformat_minor": 5
}
