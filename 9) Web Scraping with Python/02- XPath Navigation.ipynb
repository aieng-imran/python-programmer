{
 "cells": [
  {
   "cell_type": "code",
   "execution_count": 1,
   "id": "8b201415",
   "metadata": {},
   "outputs": [],
   "source": [
    "# Consult to notes in the \"NOTES\" section"
   ]
  },
  {
   "cell_type": "code",
   "execution_count": null,
   "id": "a15e81ba",
   "metadata": {},
   "outputs": [],
   "source": [
    "# What is XPath | How to create XPath | for Beginners\n",
    "# https://www.youtube.com/watch?v=U-MZJ6rbqi4 "
   ]
  }
 ],
 "metadata": {
  "kernelspec": {
   "display_name": "Python 3 (ipykernel)",
   "language": "python",
   "name": "python3"
  },
  "language_info": {
   "codemirror_mode": {
    "name": "ipython",
    "version": 3
   },
   "file_extension": ".py",
   "mimetype": "text/x-python",
   "name": "python",
   "nbconvert_exporter": "python",
   "pygments_lexer": "ipython3",
   "version": "3.9.7"
  }
 },
 "nbformat": 4,
 "nbformat_minor": 5
}
