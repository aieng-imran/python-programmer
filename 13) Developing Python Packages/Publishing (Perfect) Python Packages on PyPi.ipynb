{
 "cells": [
  {
   "cell_type": "code",
   "execution_count": 9,
   "id": "b91db07e",
   "metadata": {},
   "outputs": [],
   "source": [
    "# Publishing (Perfect) Python Packages on PyPi\n",
    "# https://www.youtube.com/watch?v=GIF3LaRqgXo\n",
    "\n",
    "# https://www.freecodecamp.org/news/build-your-first-python-package/ \n",
    "\n",
    "# https://stackoverflow.com/questions/34819221/why-is-python-setup-py-saying-invalid-command-bdist-wheel-on-travis-ci"
   ]
  },
  {
   "cell_type": "code",
   "execution_count": 2,
   "id": "33519865",
   "metadata": {},
   "outputs": [],
   "source": [
    "# Packaging Python Projects\n",
    "# https://packaging.python.org/en/latest/tutorials/packaging-projects/"
   ]
  },
  {
   "cell_type": "code",
   "execution_count": null,
   "id": "6154d579",
   "metadata": {},
   "outputs": [],
   "source": [
    "# https://godatadriven.com/blog/a-practical-guide-to-using-setup-py/"
   ]
  },
  {
   "cell_type": "code",
   "execution_count": null,
   "id": "2c779a55",
   "metadata": {},
   "outputs": [],
   "source": [
    "# How to Build Your First Python Package\n",
    "# https://towardsdatascience.com/how-to-build-your-first-python-package-6a00b02635c9"
   ]
  },
  {
   "cell_type": "code",
   "execution_count": 7,
   "id": "ab1c22f0",
   "metadata": {},
   "outputs": [
    {
     "name": "stdout",
     "output_type": "stream",
     "text": [
      "Requirement already satisfied: wheel in c:\\users\\imran\\anaconda3\\lib\\site-packages (0.37.0)\n",
      "Note: you may need to restart the kernel to use updated packages.\n"
     ]
    }
   ],
   "source": [
    "pip install wheel"
   ]
  },
  {
   "cell_type": "code",
   "execution_count": 11,
   "id": "9e22c091",
   "metadata": {},
   "outputs": [
    {
     "ename": "SyntaxError",
     "evalue": "invalid syntax (Temp/ipykernel_11452/1015393550.py, line 1)",
     "output_type": "error",
     "traceback": [
      "\u001b[1;36m  File \u001b[1;32m\"C:\\Users\\Imran\\AppData\\Local\\Temp/ipykernel_11452/1015393550.py\"\u001b[1;36m, line \u001b[1;32m1\u001b[0m\n\u001b[1;33m    python setup.py bdist_wheel\u001b[0m\n\u001b[1;37m           ^\u001b[0m\n\u001b[1;31mSyntaxError\u001b[0m\u001b[1;31m:\u001b[0m invalid syntax\n"
     ]
    }
   ],
   "source": [
    "python setup.py bdist_wheel"
   ]
  },
  {
   "cell_type": "code",
   "execution_count": 13,
   "id": "205201a7",
   "metadata": {},
   "outputs": [],
   "source": [
    "from setuptools import setup"
   ]
  },
  {
   "cell_type": "code",
   "execution_count": 1,
   "id": "b5b15118",
   "metadata": {},
   "outputs": [
    {
     "name": "stdout",
     "output_type": "stream",
     "text": [
      "Obtaining file:///E:/Google%20Drive/Important%20Documents/Educational%20Documents/Artificial%20Intelligence%20Venture/Python%20Programmer-%20Data%20Camp/Python%20Programmer/13%29%20Developing%20Python%20Packages\n",
      "Note: you may need to restart the kernel to use updated packages.\n"
     ]
    },
    {
     "name": "stderr",
     "output_type": "stream",
     "text": [
      "    ERROR: Command errored out with exit status 1:\n",
      "     command: 'C:\\Users\\Imran\\anaconda3\\python.exe' -c 'import io, os, sys, setuptools, tokenize; sys.argv[0] = '\"'\"'E:\\\\Google Drive\\\\Important Documents\\\\Educational Documents\\\\Artificial Intelligence Venture\\\\Python Programmer- Data Camp\\\\Python Programmer\\\\13) Developing Python Packages\\\\setup.py'\"'\"'; __file__='\"'\"'E:\\\\Google Drive\\\\Important Documents\\\\Educational Documents\\\\Artificial Intelligence Venture\\\\Python Programmer- Data Camp\\\\Python Programmer\\\\13) Developing Python Packages\\\\setup.py'\"'\"';f = getattr(tokenize, '\"'\"'open'\"'\"', open)(__file__) if os.path.exists(__file__) else io.StringIO('\"'\"'from setuptools import setup; setup()'\"'\"');code = f.read().replace('\"'\"'\\r\\n'\"'\"', '\"'\"'\\n'\"'\"');f.close();exec(compile(code, __file__, '\"'\"'exec'\"'\"'))' egg_info --egg-base 'C:\\Users\\Imran\\AppData\\Local\\Temp\\pip-pip-egg-info-1hegi92_'\n",
      "         cwd: E:\\Google Drive\\Important Documents\\Educational Documents\\Artificial Intelligence Venture\\Python Programmer- Data Camp\\Python Programmer\\13) Developing Python Packages\\\n",
      "    Complete output (39 lines):\n",
      "    running egg_info\n",
      "    creating C:\\Users\\Imran\\AppData\\Local\\Temp\\pip-pip-egg-info-1hegi92_\\helloworld.egg-info\n",
      "    writing C:\\Users\\Imran\\AppData\\Local\\Temp\\pip-pip-egg-info-1hegi92_\\helloworld.egg-info\\PKG-INFO\n",
      "    writing dependency_links to C:\\Users\\Imran\\AppData\\Local\\Temp\\pip-pip-egg-info-1hegi92_\\helloworld.egg-info\\dependency_links.txt\n",
      "    writing top-level names to C:\\Users\\Imran\\AppData\\Local\\Temp\\pip-pip-egg-info-1hegi92_\\helloworld.egg-info\\top_level.txt\n",
      "    writing manifest file 'C:\\Users\\Imran\\AppData\\Local\\Temp\\pip-pip-egg-info-1hegi92_\\helloworld.egg-info\\SOURCES.txt'\n",
      "    Traceback (most recent call last):\n",
      "      File \"<string>\", line 1, in <module>\n",
      "      File \"E:\\Google Drive\\Important Documents\\Educational Documents\\Artificial Intelligence Venture\\Python Programmer- Data Camp\\Python Programmer\\13) Developing Python Packages\\setup.py\", line 3, in <module>\n",
      "        setup(\n",
      "      File \"C:\\Users\\Imran\\anaconda3\\lib\\site-packages\\setuptools\\__init__.py\", line 153, in setup\n",
      "        return distutils.core.setup(**attrs)\n",
      "      File \"C:\\Users\\Imran\\anaconda3\\lib\\distutils\\core.py\", line 148, in setup\n",
      "        dist.run_commands()\n",
      "      File \"C:\\Users\\Imran\\anaconda3\\lib\\distutils\\dist.py\", line 966, in run_commands\n",
      "        self.run_command(cmd)\n",
      "      File \"C:\\Users\\Imran\\anaconda3\\lib\\distutils\\dist.py\", line 985, in run_command\n",
      "        cmd_obj.run()\n",
      "      File \"C:\\Users\\Imran\\anaconda3\\lib\\site-packages\\setuptools\\command\\egg_info.py\", line 299, in run\n",
      "        self.find_sources()\n",
      "      File \"C:\\Users\\Imran\\anaconda3\\lib\\site-packages\\setuptools\\command\\egg_info.py\", line 306, in find_sources\n",
      "        mm.run()\n",
      "      File \"C:\\Users\\Imran\\anaconda3\\lib\\site-packages\\setuptools\\command\\egg_info.py\", line 541, in run\n",
      "        self.add_defaults()\n",
      "      File \"C:\\Users\\Imran\\anaconda3\\lib\\site-packages\\setuptools\\command\\egg_info.py\", line 578, in add_defaults\n",
      "        sdist.add_defaults(self)\n",
      "      File \"C:\\Users\\Imran\\anaconda3\\lib\\distutils\\command\\sdist.py\", line 226, in add_defaults\n",
      "        self._add_defaults_python()\n",
      "      File \"C:\\Users\\Imran\\anaconda3\\lib\\site-packages\\setuptools\\command\\sdist.py\", line 107, in _add_defaults_python\n",
      "        build_py = self.get_finalized_command('build_py')\n",
      "      File \"C:\\Users\\Imran\\anaconda3\\lib\\distutils\\cmd.py\", line 299, in get_finalized_command\n",
      "        cmd_obj.ensure_finalized()\n",
      "      File \"C:\\Users\\Imran\\anaconda3\\lib\\distutils\\cmd.py\", line 107, in ensure_finalized\n",
      "        self.finalize_options()\n",
      "      File \"C:\\Users\\Imran\\anaconda3\\lib\\site-packages\\setuptools\\command\\build_py.py\", line 29, in finalize_options\n",
      "        orig.build_py.finalize_options(self)\n",
      "      File \"C:\\Users\\Imran\\anaconda3\\lib\\distutils\\command\\build_py.py\", line 54, in finalize_options\n",
      "        for name, path in self.distribution.package_dir.items():\n",
      "    AttributeError: 'set' object has no attribute 'items'\n",
      "    ----------------------------------------\n",
      "WARNING: Discarding file:///E:/Google%20Drive/Important%20Documents/Educational%20Documents/Artificial%20Intelligence%20Venture/Python%20Programmer-%20Data%20Camp/Python%20Programmer/13%29%20Developing%20Python%20Packages. Command errored out with exit status 1: python setup.py egg_info Check the logs for full command output.\n",
      "ERROR: Command errored out with exit status 1: python setup.py egg_info Check the logs for full command output.\n"
     ]
    }
   ],
   "source": [
    "pip install -e ."
   ]
  },
  {
   "cell_type": "code",
   "execution_count": null,
   "id": "e1c2b2e4",
   "metadata": {},
   "outputs": [],
   "source": []
  },
  {
   "cell_type": "code",
   "execution_count": null,
   "id": "43597074",
   "metadata": {},
   "outputs": [],
   "source": []
  },
  {
   "cell_type": "code",
   "execution_count": null,
   "id": "1ee8ee96",
   "metadata": {},
   "outputs": [],
   "source": []
  },
  {
   "cell_type": "code",
   "execution_count": null,
   "id": "fb55885f",
   "metadata": {},
   "outputs": [],
   "source": []
  },
  {
   "cell_type": "code",
   "execution_count": null,
   "id": "cb2e987d",
   "metadata": {},
   "outputs": [],
   "source": []
  },
  {
   "cell_type": "code",
   "execution_count": null,
   "id": "d117158c",
   "metadata": {},
   "outputs": [],
   "source": []
  },
  {
   "cell_type": "code",
   "execution_count": null,
   "id": "b66c3c77",
   "metadata": {},
   "outputs": [],
   "source": []
  },
  {
   "cell_type": "code",
   "execution_count": null,
   "id": "64ad16f3",
   "metadata": {},
   "outputs": [],
   "source": []
  },
  {
   "cell_type": "code",
   "execution_count": null,
   "id": "789a0cc3",
   "metadata": {},
   "outputs": [],
   "source": []
  },
  {
   "cell_type": "code",
   "execution_count": null,
   "id": "5068312b",
   "metadata": {},
   "outputs": [],
   "source": []
  },
  {
   "cell_type": "code",
   "execution_count": null,
   "id": "9d448f4d",
   "metadata": {},
   "outputs": [],
   "source": []
  },
  {
   "cell_type": "code",
   "execution_count": null,
   "id": "145b47a0",
   "metadata": {},
   "outputs": [],
   "source": []
  }
 ],
 "metadata": {
  "kernelspec": {
   "display_name": "Python 3 (ipykernel)",
   "language": "python",
   "name": "python3"
  },
  "language_info": {
   "codemirror_mode": {
    "name": "ipython",
    "version": 3
   },
   "file_extension": ".py",
   "mimetype": "text/x-python",
   "name": "python",
   "nbconvert_exporter": "python",
   "pygments_lexer": "ipython3",
   "version": "3.9.7"
  }
 },
 "nbformat": 4,
 "nbformat_minor": 5
}
