{
 "cells": [
  {
   "attachments": {
    "Date%20&%20Time.PNG": {
     "image/png": "[encoded data removed]"
    }
   },
   "cell_type": "markdown",
   "id": "5480707d",
   "metadata": {},
   "source": [
    "![Date%20&%20Time.PNG](attachment:Date%20&%20Time.PNG)"
   ]
  },
  {
   "cell_type": "code",
   "execution_count": 1,
   "id": "b2d64137",
   "metadata": {},
   "outputs": [
    {
     "name": "stdout",
     "output_type": "stream",
     "text": [
      "2017-10-01 15:23:25.500000\n"
     ]
    }
   ],
   "source": [
    "# Import datetime\n",
    "from datetime import datetime \n",
    "\n",
    "dt = datetime(year= 2017, month=10, day=1, hour=15, minute=23, \n",
    "                       second=25, microsecond= 500000)\n",
    "\n",
    "print(dt)"
   ]
  },
  {
   "cell_type": "code",
   "execution_count": 3,
   "id": "59dbb0ee",
   "metadata": {},
   "outputs": [
    {
     "name": "stdout",
     "output_type": "stream",
     "text": [
      "2017-10-01 15:00:00\n"
     ]
    }
   ],
   "source": [
    "dt_hr = dt.replace(minute=0, second=0, microsecond=0)\n",
    "print(dt_hr)"
   ]
  },
  {
   "cell_type": "code",
   "execution_count": 5,
   "id": "f7b2eed4",
   "metadata": {},
   "outputs": [
    {
     "name": "stdout",
     "output_type": "stream",
     "text": [
      "2017-12-30 15:19:13\n",
      "2017-12-30T15:19:13\n"
     ]
    }
   ],
   "source": [
    "# Printing and parsing datetimes\n",
    "# .strftime()\n",
    "# Create datetime\n",
    "dt = datetime(2017, 12, 30, 15, 19, 13)\n",
    "print(dt.strftime(\"%Y-%m-%d %H:%M:%S\"))\n",
    "print(dt.isoformat())"
   ]
  },
  {
   "cell_type": "code",
   "execution_count": 7,
   "id": "b01f3855",
   "metadata": {},
   "outputs": [
    {
     "name": "stdout",
     "output_type": "stream",
     "text": [
      "2017-12-30 15:19:13\n"
     ]
    }
   ],
   "source": [
    "# Parsing datetimes with strptime\n",
    "# In this case, month, day, year, are separated by \"/\"\n",
    "\n",
    "# Import datetime\n",
    "from datetime import datetime\n",
    "dt = datetime.strptime(\"12/30/2017 15:19:13\", \"%m/%d/%Y %H:%M:%S\")\n",
    "print(dt)"
   ]
  },
  {
   "cell_type": "code",
   "execution_count": 8,
   "id": "cc89fe86",
   "metadata": {},
   "outputs": [
    {
     "name": "stdout",
     "output_type": "stream",
     "text": [
      "2017-12-30 15:19:13\n"
     ]
    }
   ],
   "source": [
    "# Parsing datetimes with Pandas\n",
    "\n",
    "# A timestamp\n",
    "ts = 1514665153.0\n",
    "# Convert to datetime and print\n",
    "print(datetime.fromtimestamp(ts))"
   ]
  },
  {
   "cell_type": "markdown",
   "id": "63b99262",
   "metadata": {},
   "source": [
    "# Working with durations"
   ]
  },
  {
   "cell_type": "code",
   "execution_count": 11,
   "id": "096c835d",
   "metadata": {},
   "outputs": [],
   "source": [
    "# Create example datetimes\n",
    "start = datetime(2017, 10, 8, 23, 46, 47)\n",
    "end = datetime(2017, 10, 9, 0, 10, 57)\n",
    "# Subtract datetimes to create a timedelta\n",
    "duration = end - start\n"
   ]
  },
  {
   "cell_type": "code",
   "execution_count": 12,
   "id": "58e81d18",
   "metadata": {},
   "outputs": [
    {
     "name": "stdout",
     "output_type": "stream",
     "text": [
      "1450.0\n"
     ]
    }
   ],
   "source": [
    "# Subtract datetimes to create a timedelta\n",
    "print(duration.total_seconds())"
   ]
  },
  {
   "cell_type": "code",
   "execution_count": 13,
   "id": "96fed94c",
   "metadata": {},
   "outputs": [
    {
     "name": "stdout",
     "output_type": "stream",
     "text": [
      "2017-10-08 23:46:47\n"
     ]
    }
   ],
   "source": [
    "# Creating timedeltas\n",
    "\n",
    "from datetime import timedelta\n",
    "delta1= timedelta(seconds=1)\n",
    "print(start)"
   ]
  },
  {
   "cell_type": "code",
   "execution_count": 14,
   "id": "2f3b140d",
   "metadata": {},
   "outputs": [
    {
     "name": "stdout",
     "output_type": "stream",
     "text": [
      "2017-10-08 23:46:48\n"
     ]
    }
   ],
   "source": [
    "# One second later\n",
    "print(start + delta1)"
   ]
  },
  {
   "cell_type": "code",
   "execution_count": 15,
   "id": "361c8eaf",
   "metadata": {},
   "outputs": [
    {
     "name": "stdout",
     "output_type": "stream",
     "text": [
      "2017-10-08 23:46:47\n"
     ]
    }
   ],
   "source": [
    "# Create a one day and one second timedelta\n",
    "delta2 = timedelta(days=1, seconds=1)\n",
    "print(start)"
   ]
  },
  {
   "cell_type": "code",
   "execution_count": 16,
   "id": "1a75bcdf",
   "metadata": {},
   "outputs": [
    {
     "name": "stdout",
     "output_type": "stream",
     "text": [
      "2017-10-09 23:46:48\n"
     ]
    }
   ],
   "source": [
    "# One day and one second later\n",
    "print(start + delta2)"
   ]
  },
  {
   "cell_type": "code",
   "execution_count": null,
   "id": "71f65007",
   "metadata": {},
   "outputs": [],
   "source": []
  }
 ],
 "metadata": {
  "kernelspec": {
   "display_name": "Python 3",
   "language": "python",
   "name": "python3"
  },
  "language_info": {
   "codemirror_mode": {
    "name": "ipython",
    "version": 3
   },
   "file_extension": ".py",
   "mimetype": "text/x-python",
   "name": "python",
   "nbconvert_exporter": "python",
   "pygments_lexer": "ipython3",
   "version": "3.8.8"
  }
 },
 "nbformat": 4,
 "nbformat_minor": 5
}
