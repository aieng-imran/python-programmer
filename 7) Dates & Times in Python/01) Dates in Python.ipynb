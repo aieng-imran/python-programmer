{
 "cells": [
  {
   "cell_type": "markdown",
   "id": "ccaadca5",
   "metadata": {},
   "source": [
    "# Dates & Calendar\n",
    "\n",
    "1) Figure out how many days had elapsed?\n",
    "\n",
    "2) Check that they were in order from earliest to latest?\n",
    "\n",
    "3) Know which day of the week each was?\n",
    "\n",
    "4) Filter out hurricanes which happened between certain dates?"
   ]
  },
  {
   "cell_type": "code",
   "execution_count": 2,
   "id": "9e1c0cc9",
   "metadata": {},
   "outputs": [
    {
     "name": "stdout",
     "output_type": "stream",
     "text": [
      "2016\n",
      "10\n",
      "7\n",
      "4\n"
     ]
    }
   ],
   "source": [
    "# Creating Date Objects\n",
    "\n",
    "from datetime import date\n",
    "\n",
    "two_hurricanes_dates = [date(2016, 10, 7), date(2017, 6, 21)]\n",
    "\n",
    "print(two_hurricanes_dates[0].year)\n",
    "print(two_hurricanes_dates[0].month)\n",
    "print(two_hurricanes_dates[0].day)\n",
    "print(two_hurricanes_dates[0].weekday())\n",
    "# In Python, Monday = 0, Tuesday = 1, ..."
   ]
  },
  {
   "cell_type": "code",
   "execution_count": 4,
   "id": "afc941be",
   "metadata": {},
   "outputs": [
    {
     "name": "stdout",
     "output_type": "stream",
     "text": [
      "29\n",
      "2017-11-05\n"
     ]
    }
   ],
   "source": [
    "# Math with dates\n",
    "\n",
    "from datetime import date\n",
    "\n",
    "d1 = date(2017, 11, 5)\n",
    "d2 = date(2017, 12, 4)\n",
    "\n",
    "l = [d1, d2]\n",
    "delta = d2 -d1\n",
    "print(delta.days)\n",
    "print(min(l))"
   ]
  },
  {
   "cell_type": "code",
   "execution_count": 5,
   "id": "68fcd0ad",
   "metadata": {},
   "outputs": [
    {
     "name": "stdout",
     "output_type": "stream",
     "text": [
      "2017-11-05\n"
     ]
    }
   ],
   "source": [
    "# Turning dates into strings\n",
    "# ISO 8601 format\n",
    "# If we use ISO 8601 dates in filenames, they can be correctly sorted from \n",
    "# earliest to latest. I\n",
    "\n",
    "from datetime import date\n",
    "# Example date\n",
    "d = date(2017, 11, 5)\n",
    "# ISO format: YYYY-MM-DD\n",
    "print(d)"
   ]
  },
  {
   "cell_type": "code",
   "execution_count": 6,
   "id": "60a2b9b7",
   "metadata": {},
   "outputs": [
    {
     "name": "stdout",
     "output_type": "stream",
     "text": [
      "['2017-11-05']\n"
     ]
    }
   ],
   "source": [
    "# Express the date in ISO 8601 format and put it in a list\n",
    "print( [d.isoformat()] )"
   ]
  },
  {
   "cell_type": "code",
   "execution_count": 7,
   "id": "471a6bc6",
   "metadata": {},
   "outputs": [
    {
     "name": "stdout",
     "output_type": "stream",
     "text": [
      "['1999-12-31', '2000-01-01']\n"
     ]
    }
   ],
   "source": [
    "# A few dates that computers once had trouble with\n",
    "some_dates = ['2000-01-01', '1999-12-31']\n",
    "# Print them in order\n",
    "print(sorted(some_dates))"
   ]
  },
  {
   "cell_type": "code",
   "execution_count": 8,
   "id": "8258e357",
   "metadata": {},
   "outputs": [
    {
     "name": "stdout",
     "output_type": "stream",
     "text": [
      "2017\n"
     ]
    }
   ],
   "source": [
    "# strftime() works by letting you pass a \"format string\" which Python uses \n",
    "# to format your date. \n",
    "\n",
    "# Example date\n",
    "d = date(2017, 1, 5)\n",
    "print(d.strftime(\"%Y\"))"
   ]
  },
  {
   "cell_type": "code",
   "execution_count": 9,
   "id": "f36189a1",
   "metadata": {},
   "outputs": [
    {
     "name": "stdout",
     "output_type": "stream",
     "text": [
      "Year is 2017\n"
     ]
    }
   ],
   "source": [
    "# Format string with more text in it\n",
    "print(d.strftime(\"Year is %Y\"))"
   ]
  },
  {
   "cell_type": "code",
   "execution_count": null,
   "id": "6a2e2ec1",
   "metadata": {},
   "outputs": [],
   "source": []
  }
 ],
 "metadata": {
  "kernelspec": {
   "display_name": "Python 3",
   "language": "python",
   "name": "python3"
  },
  "language_info": {
   "codemirror_mode": {
    "name": "ipython",
    "version": 3
   },
   "file_extension": ".py",
   "mimetype": "text/x-python",
   "name": "python",
   "nbconvert_exporter": "python",
   "pygments_lexer": "ipython3",
   "version": "3.8.8"
  }
 },
 "nbformat": 4,
 "nbformat_minor": 5
}
