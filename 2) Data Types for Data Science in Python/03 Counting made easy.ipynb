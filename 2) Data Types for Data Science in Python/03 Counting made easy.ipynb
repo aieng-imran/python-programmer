{
 "cells": [
  {
   "cell_type": "markdown",
   "id": "c7056fdc",
   "metadata": {},
   "source": [
    "# Collections Module\n",
    "1) Part of Standard Library\n",
    "\n",
    "2) Advanced data containers"
   ]
  },
  {
   "cell_type": "code",
   "execution_count": 5,
   "id": "d9f093bf",
   "metadata": {},
   "outputs": [
    {
     "name": "stdout",
     "output_type": "stream",
     "text": [
      "Counter({1: 4, 3: 3, 4: 2, 2: 1})\n",
      "[(1, 4)]\n"
     ]
    }
   ],
   "source": [
    "list1 = [1,1,1,1, 2,3,3,3,4,4]\n",
    "from collections import Counter\n",
    "list2 = Counter(list1)\n",
    "print(list2)\n",
    "print(list2.most_common(1))"
   ]
  },
  {
   "cell_type": "code",
   "execution_count": 13,
   "id": "f5a5703c",
   "metadata": {},
   "outputs": [
    {
     "name": "stdout",
     "output_type": "stream",
     "text": [
      "defaultdict(<class 'int'>, {'I': 1, 'a': 2, 'n': 2, 'Y': 1, 's': 1, 'i': 1})\n"
     ]
    }
   ],
   "source": [
    "# Exploring collections: defaultdict in Python\n",
    "#    https://www.youtube.com/watch?v=zTHtUm4AtcA\n",
    "#DefaultDict\n",
    "from collections import defaultdict\n",
    "\n",
    "d = defaultdict(int)\n",
    "name = \"IanYasin\"\n",
    "\n",
    "for c in name:\n",
    "    d[c] += 1\n",
    "print(d)"
   ]
  },
  {
   "cell_type": "code",
   "execution_count": 17,
   "id": "2065fb45",
   "metadata": {},
   "outputs": [
    {
     "name": "stdout",
     "output_type": "stream",
     "text": [
      "defaultdict(<function <lambda> at 0x000002CECF66EDC0>, {'I': 3, 'a': 4, 'n': 4, 'Y': 3, 's': 3, 'i': 3})\n"
     ]
    }
   ],
   "source": [
    "#DefaultDict\n",
    "\n",
    "from collections import defaultdict\n",
    "\n",
    "d = defaultdict(lambda: 2)\n",
    "name = \"IanYasin\"\n",
    "\n",
    "for char in name:\n",
    "    d[char] += 1\n",
    "    \n",
    "print(d)"
   ]
  },
  {
   "cell_type": "code",
   "execution_count": 16,
   "id": "813896ad",
   "metadata": {},
   "outputs": [
    {
     "name": "stdout",
     "output_type": "stream",
     "text": [
      "OrderedDict([('Rizwan', 100), ('Babar', 150), ('Asif', 75)])\n"
     ]
    }
   ],
   "source": [
    "# Ordered Dict: It maintains the order in which the values were entered.\n",
    "\n",
    "from collections import OrderedDict\n",
    "\n",
    "scores = [(\"Rizwan\", 100), (\"Babar\", 150), (\"Asif\", 75)]\n",
    "orddict = OrderedDict(scores)\n",
    "print(orddict)"
   ]
  },
  {
   "cell_type": "code",
   "execution_count": null,
   "id": "36247dcc",
   "metadata": {},
   "outputs": [],
   "source": []
  }
 ],
 "metadata": {
  "kernelspec": {
   "display_name": "Python 3",
   "language": "python",
   "name": "python3"
  },
  "language_info": {
   "codemirror_mode": {
    "name": "ipython",
    "version": 3
   },
   "file_extension": ".py",
   "mimetype": "text/x-python",
   "name": "python",
   "nbconvert_exporter": "python",
   "pygments_lexer": "ipython3",
   "version": "3.8.8"
  }
 },
 "nbformat": 4,
 "nbformat_minor": 5
}
