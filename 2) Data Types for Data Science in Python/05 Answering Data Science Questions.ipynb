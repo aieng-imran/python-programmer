{
 "cells": [
  {
   "cell_type": "code",
   "execution_count": 21,
   "id": "b9ae550c",
   "metadata": {},
   "outputs": [
    {
     "name": "stdout",
     "output_type": "stream",
     "text": [
      "                     Date                 Block Primary Type  \\\n",
      "0  05/23/2016 05:35:00 PM   024XX W DIVISION ST      ASSAULT   \n",
      "1  03/26/2016 08:20:00 PM     019XX W HOWARD ST     BURGLARY   \n",
      "2  04/25/2016 03:05:00 PM       001XX W 79TH ST        THEFT   \n",
      "3  04/26/2016 05:30:00 PM      010XX N PINE AVE      BATTERY   \n",
      "4  06/19/2016 01:15:00 AM  027XX W AUGUSTA BLVD      BATTERY   \n",
      "\n",
      "           Description Location Description  Arrest  Domestic  District  \n",
      "0               SIMPLE               STREET   False      True        14  \n",
      "1       FORCIBLE ENTRY   SMALL RETAIL STORE   False     False        24  \n",
      "2         RETAIL THEFT     DEPARTMENT STORE    True     False         6  \n",
      "3               SIMPLE             SIDEWALK   False     False        15  \n",
      "4  AGGRAVATED: HANDGUN             SIDEWALK   False     False        12  \n"
     ]
    }
   ],
   "source": [
    "import pandas as pd\n",
    "\n",
    "csvfile = pd.read_csv('crime_sampler.csv')\n",
    "print(csvfile.head())"
   ]
  },
  {
   "cell_type": "code",
   "execution_count": 17,
   "id": "fe396c43",
   "metadata": {},
   "outputs": [
    {
     "name": "stdout",
     "output_type": "stream",
     "text": [
      "[('05/23/2016 05:35:00 PM', 'ASSAULT', 'STREET', 'false'), ('03/26/2016 08:20:00 PM', 'BURGLARY', 'SMALL RETAIL STORE', 'false'), ('04/25/2016 03:05:00 PM', 'THEFT', 'DEPARTMENT STORE', 'true'), ('04/26/2016 05:30:00 PM', 'BATTERY', 'SIDEWALK', 'false'), ('06/19/2016 01:15:00 AM', 'BATTERY', 'SIDEWALK', 'false'), ('05/28/2016 08:00:00 PM', 'BATTERY', 'GAS STATION', 'false'), ('07/03/2016 03:43:00 PM', 'THEFT', 'OTHER', 'false'), ('06/11/2016 06:55:00 PM', 'PUBLIC PEACE VIOLATION', 'STREET', 'true'), ('10/04/2016 10:20:00 AM', 'BATTERY', 'STREET', 'true'), ('02/14/2017 09:00:00 PM', 'CRIMINAL DAMAGE', 'PARK PROPERTY', 'false')]\n"
     ]
    }
   ],
   "source": [
    "import csv\n",
    "\n",
    "csvfile = open('crime_sampler.csv', 'r')\n",
    "crime_data = []\n",
    "\n",
    "for row in csv.reader(csvfile):\n",
    "    crime_data.append((row[0], row[2], row[4], row[5]))\n",
    "crime_data.pop(0)\n",
    "    \n",
    "print(crime_data[:10])"
   ]
  },
  {
   "cell_type": "code",
   "execution_count": 18,
   "id": "e137f00d",
   "metadata": {},
   "outputs": [
    {
     "name": "stdout",
     "output_type": "stream",
     "text": [
      "[(1, 1948), (2, 1862), (7, 1257)]\n"
     ]
    }
   ],
   "source": [
    "# Find the Months with the Highest Number of Crimes\n",
    "\n",
    "from collections import Counter\n",
    "from datetime import datetime\n",
    "\n",
    "# Create a Counter Object: crimes_by_month\n",
    "crimes_by_month = Counter()\n",
    "\n",
    "# Loop over the crime_data list\n",
    "\n",
    "for row in crime_data:\n",
    "# Convert the first element of each item into a Python Datetime Object: date\n",
    "    date = datetime.strptime(row[0], '%m/%d/%Y %I:%M:%S %p')\n",
    "\n",
    "# Increment the counter for the month of the row by one\n",
    "    crimes_by_month[date.month] += 1\n",
    "    \n",
    "print(crimes_by_month.most_common(3))"
   ]
  },
  {
   "cell_type": "code",
   "execution_count": 19,
   "id": "94750d1b",
   "metadata": {},
   "outputs": [
    {
     "ename": "IndexError",
     "evalue": "tuple index out of range",
     "output_type": "error",
     "traceback": [
      "\u001b[1;31m---------------------------------------------------------------------------\u001b[0m",
      "\u001b[1;31mIndexError\u001b[0m                                Traceback (most recent call last)",
      "\u001b[1;32m<ipython-input-19-95a539551223>\u001b[0m in \u001b[0;36m<module>\u001b[1;34m\u001b[0m\n\u001b[0;32m     13\u001b[0m \u001b[1;33m\u001b[0m\u001b[0m\n\u001b[0;32m     14\u001b[0m     \u001b[1;32mif\u001b[0m \u001b[0mdate\u001b[0m\u001b[1;33m.\u001b[0m\u001b[0myear\u001b[0m \u001b[1;33m==\u001b[0m \u001b[1;36m2016\u001b[0m\u001b[1;33m:\u001b[0m\u001b[1;33m\u001b[0m\u001b[1;33m\u001b[0m\u001b[0m\n\u001b[1;32m---> 15\u001b[1;33m         \u001b[0mlocations_by_month\u001b[0m\u001b[1;33m[\u001b[0m\u001b[0mdate\u001b[0m\u001b[1;33m.\u001b[0m\u001b[0mmonth\u001b[0m\u001b[1;33m]\u001b[0m\u001b[1;33m.\u001b[0m\u001b[0mappend\u001b[0m\u001b[1;33m(\u001b[0m\u001b[0mrow\u001b[0m\u001b[1;33m[\u001b[0m\u001b[1;36m4\u001b[0m\u001b[1;33m]\u001b[0m\u001b[1;33m)\u001b[0m\u001b[1;33m\u001b[0m\u001b[1;33m\u001b[0m\u001b[0m\n\u001b[0m\u001b[0;32m     16\u001b[0m \u001b[1;33m\u001b[0m\u001b[0m\n\u001b[0;32m     17\u001b[0m \u001b[0mprint\u001b[0m\u001b[1;33m(\u001b[0m\u001b[0mlocations_by_month\u001b[0m\u001b[1;33m)\u001b[0m\u001b[1;33m\u001b[0m\u001b[1;33m\u001b[0m\u001b[0m\n",
      "\u001b[1;31mIndexError\u001b[0m: tuple index out of range"
     ]
    }
   ],
   "source": [
    "# Transforming your Data Containers to Month and Location\n",
    "\n",
    "from collections import defaultdict\n",
    "from datetime import datetime\n",
    "\n",
    "# Create a dictionary that defaults to a list: locations_by_month\n",
    "locations_by_month = defaultdict(list)\n",
    "\n",
    "# Loop over the crime_data list\n",
    "for row in crime_data:\n",
    "    # Convert the first element to a date object\n",
    "    date = datetime.strptime(row[0], '%m/%d/%Y %I:%M:%S %p')\n",
    "    \n",
    "    if date.year == 2016:\n",
    "        locations_by_month[date.month].append(row[4])\n",
    "        \n",
    "print(locations_by_month)"
   ]
  },
  {
   "cell_type": "code",
   "execution_count": 20,
   "id": "5ba4a34d",
   "metadata": {},
   "outputs": [
    {
     "name": "stdout",
     "output_type": "stream",
     "text": [
      "5\n",
      "[]\n"
     ]
    }
   ],
   "source": [
    "# Import Counter from collections\n",
    "from collections import Counter\n",
    "\n",
    "# Loop over the items from locations_by_month using tuple expansion of the month and locations\n",
    "for month, locations in locations_by_month.items():\n",
    "    # Make a Counter of the locations\n",
    "    location_count = Counter(locations)\n",
    "    # Print the month \n",
    "    print(month)\n",
    "    # Print the most common location\n",
    "    print(location_count.most_common(5))"
   ]
  },
  {
   "cell_type": "code",
   "execution_count": null,
   "id": "084a02af",
   "metadata": {},
   "outputs": [],
   "source": []
  },
  {
   "cell_type": "code",
   "execution_count": 25,
   "id": "a401d58d",
   "metadata": {},
   "outputs": [],
   "source": [
    "# Reading your Data with DictReader and Establishing your Data Containers\n",
    "\n",
    "csvfile = open('crime_sampler.csv', 'r')\n",
    "\n",
    "# Create a dictionary that defaults to a list: crimes_by_district\n",
    "crimes_by_district = defaultdict(list)\n",
    "\n",
    "for row in csv.DictReader(csvfile):\n",
    "    district = row.pop('District')\n",
    "    crimes_by_district[district].append(row)"
   ]
  },
  {
   "cell_type": "code",
   "execution_count": null,
   "id": "f160fc96",
   "metadata": {},
   "outputs": [],
   "source": [
    "# Determine the Arrests by District by Year\n",
    "\n"
   ]
  }
 ],
 "metadata": {
  "kernelspec": {
   "display_name": "Python 3",
   "language": "python",
   "name": "python3"
  },
  "language_info": {
   "codemirror_mode": {
    "name": "ipython",
    "version": 3
   },
   "file_extension": ".py",
   "mimetype": "text/x-python",
   "name": "python",
   "nbconvert_exporter": "python",
   "pygments_lexer": "ipython3",
   "version": "3.8.8"
  }
 },
 "nbformat": 4,
 "nbformat_minor": 5
}
