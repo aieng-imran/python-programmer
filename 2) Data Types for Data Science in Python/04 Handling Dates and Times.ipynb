{
 "cells": [
  {
   "cell_type": "markdown",
   "id": "43ee4f37",
   "metadata": {},
   "source": [
    "# Datetime\n",
    "1) strptime - Parsing strings into datetimes\n",
    "\n",
    "2) strftime - method uses a format string to convert a\n",
    "datetime object to a string\n",
    "\n",
    "3) .now() method returns the current local datetime\n",
    "\n",
    "4) .utcnow() method returns the current UTC datetime\n",
    "\n",
    "5) .astimezone() - Aware objects have .astimezone() so you can get the time\n",
    "in another timezone\n",
    "\n",
    "6) .parse() - to convert a string to a pendulum\n",
    "datetime object without the need of the format string"
   ]
  },
  {
   "cell_type": "code",
   "execution_count": 2,
   "id": "ad290f53",
   "metadata": {},
   "outputs": [
    {
     "name": "stdout",
     "output_type": "stream",
     "text": [
      "2021-11-17 09:51:05.577805\n"
     ]
    }
   ],
   "source": [
    "from datetime import datetime\n",
    "local_dt = datetime.now()\n",
    "print(local_dt)"
   ]
  },
  {
   "cell_type": "code",
   "execution_count": 3,
   "id": "8c1e3c00",
   "metadata": {},
   "outputs": [
    {
     "name": "stdout",
     "output_type": "stream",
     "text": [
      "2021-11-17 14:51:25.880547\n"
     ]
    }
   ],
   "source": [
    "from datetime import datetime\n",
    "local_dt = datetime.utcnow()\n",
    "print(local_dt)"
   ]
  },
  {
   "cell_type": "code",
   "execution_count": 15,
   "id": "9031e4dd",
   "metadata": {},
   "outputs": [
    {
     "name": "stdout",
     "output_type": "stream",
     "text": [
      "2021-11-17 10:04:00-04:56\n",
      "2021-11-17 07:00:00-08:00\n"
     ]
    }
   ],
   "source": [
    "# Switching timezones\n",
    "\n",
    "from pytz import timezone\n",
    "\n",
    "# Convert the service_date to a datetime object\n",
    "record_dt = datetime.strptime('11/17/2021 10:04AM', '%m/%d/%Y %H:%M%p')\n",
    "\n",
    "ny_tz = timezone('US/Eastern')\n",
    "cal_tz = timezone('US/Pacific')\n",
    "ny_dt = record_dt.replace(tzinfo = ny_tz)\n",
    "la_dt = ny_dt.astimezone(cal_tz)\n",
    "\n",
    "print(ny_dt)\n",
    "print(la_dt)"
   ]
  },
  {
   "cell_type": "code",
   "execution_count": null,
   "id": "33d1179a",
   "metadata": {},
   "outputs": [],
   "source": []
  }
 ],
 "metadata": {
  "kernelspec": {
   "display_name": "Python 3",
   "language": "python",
   "name": "python3"
  },
  "language_info": {
   "codemirror_mode": {
    "name": "ipython",
    "version": 3
   },
   "file_extension": ".py",
   "mimetype": "text/x-python",
   "name": "python",
   "nbconvert_exporter": "python",
   "pygments_lexer": "ipython3",
   "version": "3.8.8"
  }
 },
 "nbformat": 4,
 "nbformat_minor": 5
}
