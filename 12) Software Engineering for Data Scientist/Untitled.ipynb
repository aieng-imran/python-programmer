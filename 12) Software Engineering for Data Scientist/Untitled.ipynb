{
 "cells": [
  {
   "cell_type": "code",
   "execution_count": 1,
   "id": "e8e9980d",
   "metadata": {},
   "outputs": [
    {
     "name": "stdout",
     "output_type": "stream",
     "text": [
      "Collecting twine\n",
      "  Downloading twine-3.7.1-py3-none-any.whl (35 kB)\n",
      "Collecting readme-renderer>=21.0\n",
      "  Downloading readme_renderer-31.0-py3-none-any.whl (16 kB)\n",
      "Collecting pkginfo>=1.8.1\n",
      "  Downloading pkginfo-1.8.2-py2.py3-none-any.whl (26 kB)\n",
      "Requirement already satisfied: colorama>=0.4.3 in c:\\users\\imran\\anaconda3\\lib\\site-packages (from twine) (0.4.4)\n",
      "Collecting requests-toolbelt!=0.9.0,>=0.8.0\n",
      "  Downloading requests_toolbelt-0.9.1-py2.py3-none-any.whl (54 kB)\n",
      "Requirement already satisfied: requests>=2.20 in c:\\users\\imran\\anaconda3\\lib\\site-packages (from twine) (2.26.0)\n",
      "Requirement already satisfied: tqdm>=4.14 in c:\\users\\imran\\anaconda3\\lib\\site-packages (from twine) (4.62.3)\n",
      "Collecting rfc3986>=1.4.0\n",
      "  Downloading rfc3986-1.5.0-py2.py3-none-any.whl (31 kB)\n",
      "Requirement already satisfied: importlib-metadata>=3.6 in c:\\users\\imran\\anaconda3\\lib\\site-packages (from twine) (4.8.1)\n",
      "Requirement already satisfied: keyring>=15.1 in c:\\users\\imran\\anaconda3\\lib\\site-packages (from twine) (23.1.0)\n",
      "Requirement already satisfied: zipp>=0.5 in c:\\users\\imran\\anaconda3\\lib\\site-packages (from importlib-metadata>=3.6->twine) (3.6.0)\n",
      "Requirement already satisfied: pywin32-ctypes!=0.1.0,!=0.1.1 in c:\\users\\imran\\anaconda3\\lib\\site-packages (from keyring>=15.1->twine) (0.2.0)\n",
      "Requirement already satisfied: docutils>=0.13.1 in c:\\users\\imran\\anaconda3\\lib\\site-packages (from readme-renderer>=21.0->twine) (0.17.1)\n",
      "Requirement already satisfied: bleach>=2.1.0 in c:\\users\\imran\\anaconda3\\lib\\site-packages (from readme-renderer>=21.0->twine) (4.0.0)\n",
      "Requirement already satisfied: Pygments>=2.5.1 in c:\\users\\imran\\anaconda3\\lib\\site-packages (from readme-renderer>=21.0->twine) (2.10.0)\n",
      "Requirement already satisfied: webencodings in c:\\users\\imran\\anaconda3\\lib\\site-packages (from bleach>=2.1.0->readme-renderer>=21.0->twine) (0.5.1)\n",
      "Requirement already satisfied: packaging in c:\\users\\imran\\anaconda3\\lib\\site-packages (from bleach>=2.1.0->readme-renderer>=21.0->twine) (21.0)\n",
      "Requirement already satisfied: six>=1.9.0 in c:\\users\\imran\\anaconda3\\lib\\site-packages (from bleach>=2.1.0->readme-renderer>=21.0->twine) (1.16.0)\n",
      "Requirement already satisfied: charset-normalizer~=2.0.0 in c:\\users\\imran\\anaconda3\\lib\\site-packages (from requests>=2.20->twine) (2.0.4)\n",
      "Requirement already satisfied: certifi>=2017.4.17 in c:\\users\\imran\\anaconda3\\lib\\site-packages (from requests>=2.20->twine) (2021.10.8)\n",
      "Requirement already satisfied: urllib3<1.27,>=1.21.1 in c:\\users\\imran\\anaconda3\\lib\\site-packages (from requests>=2.20->twine) (1.26.7)\n",
      "Requirement already satisfied: idna<4,>=2.5 in c:\\users\\imran\\anaconda3\\lib\\site-packages (from requests>=2.20->twine) (3.2)\n",
      "Requirement already satisfied: pyparsing>=2.0.2 in c:\\users\\imran\\anaconda3\\lib\\site-packages (from packaging->bleach>=2.1.0->readme-renderer>=21.0->twine) (3.0.4)\n",
      "Installing collected packages: rfc3986, requests-toolbelt, readme-renderer, pkginfo, twine\n",
      "  Attempting uninstall: pkginfo\n",
      "    Found existing installation: pkginfo 1.7.1\n",
      "    Uninstalling pkginfo-1.7.1:\n",
      "      Successfully uninstalled pkginfo-1.7.1\n",
      "Successfully installed pkginfo-1.8.2 readme-renderer-31.0 requests-toolbelt-0.9.1 rfc3986-1.5.0 twine-3.7.1\n",
      "Note: you may need to restart the kernel to use updated packages.\n"
     ]
    }
   ],
   "source": [
    "pip install twine"
   ]
  },
  {
   "cell_type": "code",
   "execution_count": 2,
   "id": "0924a6b7",
   "metadata": {},
   "outputs": [
    {
     "ename": "SyntaxError",
     "evalue": "invalid syntax (Temp/ipykernel_18312/1677127655.py, line 1)",
     "output_type": "error",
     "traceback": [
      "\u001b[1;36m  File \u001b[1;32m\"C:\\Users\\Imran\\AppData\\Local\\Temp/ipykernel_18312/1677127655.py\"\u001b[1;36m, line \u001b[1;32m1\u001b[0m\n\u001b[1;33m    twine upload --repository testpypi dist/*\u001b[0m\n\u001b[1;37m          ^\u001b[0m\n\u001b[1;31mSyntaxError\u001b[0m\u001b[1;31m:\u001b[0m invalid syntax\n"
     ]
    }
   ],
   "source": [
    "twine upload --repository testpypi dist/*"
   ]
  },
  {
   "cell_type": "code",
   "execution_count": null,
   "id": "1a46159b",
   "metadata": {},
   "outputs": [],
   "source": []
  }
 ],
 "metadata": {
  "kernelspec": {
   "display_name": "Python 3 (ipykernel)",
   "language": "python",
   "name": "python3"
  },
  "language_info": {
   "codemirror_mode": {
    "name": "ipython",
    "version": 3
   },
   "file_extension": ".py",
   "mimetype": "text/x-python",
   "name": "python",
   "nbconvert_exporter": "python",
   "pygments_lexer": "ipython3",
   "version": "3.9.7"
  }
 },
 "nbformat": 4,
 "nbformat_minor": 5
}
