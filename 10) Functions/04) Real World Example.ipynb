{
 "cells": [
  {
   "cell_type": "code",
   "execution_count": null,
   "id": "36d7fe96",
   "metadata": {},
   "outputs": [],
   "source": [
    "# Use outside resources to learn Decorate. DataCamp's way is a bit confusing.\n",
    "# https://www.programiz.com/python-programming/decorator"
   ]
  }
 ],
 "metadata": {
  "kernelspec": {
   "display_name": "Python 3 (ipykernel)",
   "language": "python",
   "name": "python3"
  },
  "language_info": {
   "codemirror_mode": {
    "name": "ipython",
    "version": 3
   },
   "file_extension": ".py",
   "mimetype": "text/x-python",
   "name": "python",
   "nbconvert_exporter": "python",
   "pygments_lexer": "ipython3",
   "version": "3.9.7"
  }
 },
 "nbformat": 4,
 "nbformat_minor": 5
}
