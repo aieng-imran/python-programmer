{
 "cells": [
  {
   "cell_type": "code",
   "execution_count": 2,
   "id": "8973446f",
   "metadata": {},
   "outputs": [
    {
     "name": "stdout",
     "output_type": "stream",
     "text": [
      "   contributors  coordinates                      created_at  \\\n",
      "0           NaN          NaN  Tue Mar 29 23:40:17 +0000 2016   \n",
      "1           NaN          NaN  Tue Mar 29 23:40:17 +0000 2016   \n",
      "2           NaN          NaN  Tue Mar 29 23:40:17 +0000 2016   \n",
      "3           NaN          NaN  Tue Mar 29 23:40:17 +0000 2016   \n",
      "4           NaN          NaN  Tue Mar 29 23:40:17 +0000 2016   \n",
      "\n",
      "                                            entities  \\\n",
      "0  {'hashtags': [], 'user_mentions': [{'screen_na...   \n",
      "1  {'hashtags': [{'text': 'cruzsexscandal', 'indi...   \n",
      "2  {'hashtags': [], 'user_mentions': [], 'symbols...   \n",
      "3  {'hashtags': [], 'user_mentions': [], 'symbols...   \n",
      "4  {'hashtags': [], 'user_mentions': [{'screen_na...   \n",
      "\n",
      "                                   extended_entities  favorite_count  \\\n",
      "0  {'media': [{'sizes': {'large': {'w': 1024, 'h'...               0   \n",
      "1  {'media': [{'sizes': {'large': {'w': 500, 'h':...               0   \n",
      "2                                                NaN               0   \n",
      "3                                                NaN               0   \n",
      "4                                                NaN               0   \n",
      "\n",
      "   favorited filter_level  geo                  id  ...  quoted_status_id  \\\n",
      "0      False          low  NaN  714960401759387648  ...               NaN   \n",
      "1      False          low  NaN  714960401977319424  ...               NaN   \n",
      "2      False          low  NaN  714960402426236928  ...               NaN   \n",
      "3      False          low  NaN  714960402367561730  ...      7.149239e+17   \n",
      "4      False          low  NaN  714960402149416960  ...               NaN   \n",
      "\n",
      "  quoted_status_id_str  retweet_count  retweeted  \\\n",
      "0                  NaN              0      False   \n",
      "1                  NaN              0      False   \n",
      "2                  NaN              0      False   \n",
      "3         7.149239e+17              0      False   \n",
      "4                  NaN              0      False   \n",
      "\n",
      "                                    retweeted_status  \\\n",
      "0  {'retweeted': False, 'text': \".@krollbondratin...   \n",
      "1  {'retweeted': False, 'text': '@dmartosko Cruz ...   \n",
      "2                                                NaN   \n",
      "3                                                NaN   \n",
      "4  {'retweeted': False, 'text': 'The anti-America...   \n",
      "\n",
      "                                              source  \\\n",
      "0  <a href=\"http://twitter.com\" rel=\"nofollow\">Tw...   \n",
      "1  <a href=\"http://twitter.com\" rel=\"nofollow\">Tw...   \n",
      "2  <a href=\"http://www.facebook.com/twitter\" rel=...   \n",
      "3  <a href=\"http://twitter.com/download/android\" ...   \n",
      "4  <a href=\"http://twitter.com/download/iphone\" r...   \n",
      "\n",
      "                                                text   timestamp_ms truncated  \\\n",
      "0  RT @bpolitics: .@krollbondrating's Christopher...  1459294817758     False   \n",
      "1  RT @HeidiAlpine: @dmartosko Cruz video found.....  1459294817810     False   \n",
      "2  Njihuni me Zonjën Trump !!! | Ekskluzive https...  1459294817917     False   \n",
      "3  Your an idiot she shouldn't have tried to grab...  1459294817903     False   \n",
      "4  RT @AlanLohner: The anti-American D.C. elites ...  1459294817851     False   \n",
      "\n",
      "                                                user  \n",
      "0  {'utc_offset': 3600, 'profile_image_url_https'...  \n",
      "1  {'utc_offset': None, 'profile_image_url_https'...  \n",
      "2  {'utc_offset': 7200, 'profile_image_url_https'...  \n",
      "3  {'utc_offset': None, 'profile_image_url_https'...  \n",
      "4  {'utc_offset': -18000, 'profile_image_url_http...  \n",
      "\n",
      "[5 rows x 31 columns]\n"
     ]
    }
   ],
   "source": [
    "import pandas as pd\n",
    "tweets = pd.read_csv('tweets.csv')\n",
    "print(tweets.head())"
   ]
  },
  {
   "cell_type": "code",
   "execution_count": 64,
   "id": "3ac39da3",
   "metadata": {},
   "outputs": [
    {
     "name": "stdout",
     "output_type": "stream",
     "text": [
      "['216.6', '796.1', '275', '304.5', '1,410', '1,039.40', '4,800', '1', '-1']\n"
     ]
    }
   ],
   "source": [
    "# https://www.marsja.se/how-to-get-the-column-names-from-a-pandas-dataframe-print-and-list/#:~:text=To%20get%20the%20column%20names%20in%20Pandas%20dataframe%20you%20can,)).\n",
    "# https://www.kite.com/python/answers/how-to-convert-the-rows-of-a-pandas-dataframe-to-lists-in-python\n",
    "\n",
    "import pandas as pd\n",
    "world_bank = pd.read_csv('world_bank.csv')\n",
    "sort = world_bank.set_index(\"Country\").sort_index()\n",
    "pak = list(sort.loc['Pakistan'])\n",
    "#pak = world_bank.loc['Pakistan', :]\n",
    "#values = pak.values.tolist()\n",
    "frame = list(world_bank.columns)\n",
    "# values = world_bank.values\n",
    "print(pak)\n",
    "#print(values)\n",
    "#print(frame)"
   ]
  },
  {
   "cell_type": "code",
   "execution_count": 65,
   "id": "77784254",
   "metadata": {},
   "outputs": [
    {
     "name": "stdout",
     "output_type": "stream",
     "text": [
      "{'Population': '216.6', 'Surface area': '796.1', 'Population density': '275', 'Gross national income, Atlas method': '304.5', 'Gross national income per capita, Atlas method': '1,410', 'Purchasing power parity gross national income': '1,039.40', 'Unnamed: 7': '4,800', 'Gross domestic product': '1', 'Unnamed: 9': '-1'}\n"
     ]
    }
   ],
   "source": [
    "zipped_list = zip(frame[1:], pak)\n",
    "rs_dict = dict(zipped_list)\n",
    "print(rs_dict)"
   ]
  },
  {
   "cell_type": "code",
   "execution_count": 66,
   "id": "8b9ab8e1",
   "metadata": {},
   "outputs": [
    {
     "name": "stdout",
     "output_type": "stream",
     "text": [
      "{'Population': '216.6', 'Surface area': '796.1', 'Population density': '275', 'Gross national income, Atlas method': '304.5', 'Gross national income per capita, Atlas method': '1,410', 'Purchasing power parity gross national income': '1,039.40', 'Unnamed: 7': '4,800', 'Gross domestic product': '1', 'Unnamed: 9': '-1'}\n"
     ]
    }
   ],
   "source": [
    "def list2dict(list1, list2):\n",
    "    zipped_list = zip(list1, list2)\n",
    "    rs_dict = dict(zipped_list)\n",
    "    return rs_dict\n",
    "rs_fxn = list2dict(frame[1:], pak)\n",
    "print(rs_fxn)"
   ]
  },
  {
   "cell_type": "code",
   "execution_count": 68,
   "id": "2afb29c9",
   "metadata": {},
   "outputs": [
    {
     "name": "stdout",
     "output_type": "stream",
     "text": [
      "{'Population': 'P', 'Surface area': 'o', 'Population density': 'p', 'Gross national income, Atlas method': 'u', 'Gross national income per capita, Atlas method': 'l', 'Purchasing power parity gross national income': 'a', 'Unnamed: 7': 't', 'Gross domestic product': 'i', 'Unnamed: 9': 'o'}\n",
      "{'Population': 'S', 'Surface area': 'u', 'Population density': 'r', 'Gross national income, Atlas method': 'f', 'Gross national income per capita, Atlas method': 'a', 'Purchasing power parity gross national income': 'c', 'Unnamed: 7': 'e', 'Gross domestic product': ' ', 'Unnamed: 9': 'a'}\n"
     ]
    }
   ],
   "source": [
    "list_of_dicts = [list2dict(frame[1:], sublist) for sublist in rs_dict]\n",
    "print(list_of_dicts[0])\n",
    "print(list_of_dicts[1])"
   ]
  },
  {
   "cell_type": "code",
   "execution_count": null,
   "id": "e4c71b5c",
   "metadata": {},
   "outputs": [],
   "source": []
  },
  {
   "cell_type": "code",
   "execution_count": null,
   "id": "81b329dc",
   "metadata": {},
   "outputs": [],
   "source": []
  },
  {
   "cell_type": "code",
   "execution_count": null,
   "id": "5e4a62a5",
   "metadata": {},
   "outputs": [],
   "source": []
  },
  {
   "cell_type": "code",
   "execution_count": 78,
   "id": "d1e613a9",
   "metadata": {},
   "outputs": [
    {
     "name": "stdout",
     "output_type": "stream",
     "text": [
      "               Country Population      Surface area Population density  \\\n",
      "0                  NaN        NaN               NaN                NaN   \n",
      "1                  NaN   millions  sq. km thousands  people per sq. km   \n",
      "2                  NaN       2019              2019               2019   \n",
      "3          Afghanistan         38             652.9                 57   \n",
      "4              Albania        2.9              28.8                105   \n",
      "5              Algeria       43.1          2,381.70                 18   \n",
      "6       American Samoa        0.1               0.2                277   \n",
      "7              Andorra        0.1               0.5                164   \n",
      "8               Angola       31.8          1,246.70                 25   \n",
      "9  Antigua and Barbuda        0.1               0.4                219   \n",
      "\n",
      "  Gross national income, Atlas method  \\\n",
      "0                                 NaN   \n",
      "1                          $ billions   \n",
      "2                                2019   \n",
      "3                                  20   \n",
      "4                                14.9   \n",
      "5                               172.5   \n",
      "6                                  ..   \n",
      "7                                  ..   \n",
      "8                                94.2   \n",
      "9                                 1.6   \n",
      "\n",
      "  Gross national income per capita, Atlas method  \\\n",
      "0                                            NaN   \n",
      "1                                              $   \n",
      "2                                           2019   \n",
      "3                                            530   \n",
      "4                                          5,220   \n",
      "5                                          4,010   \n",
      "6                                             ..   \n",
      "7                                             ..   \n",
      "8                                          2,960   \n",
      "9                                         16,600   \n",
      "\n",
      "  Purchasing power parity gross national income  Unnamed: 7  \\\n",
      "0                                           NaN  per capita   \n",
      "1                                    $ billions           $   \n",
      "2                                          2019        2019   \n",
      "3                                          83.3       2,190   \n",
      "4                                          41.3      14,450   \n",
      "5                                         504.8      11,720   \n",
      "6                                            ..          ..   \n",
      "7                                            ..          ..   \n",
      "8                                         202.9       6,380   \n",
      "9                                           2.1      21,780   \n",
      "\n",
      "  Gross domestic product  Unnamed: 9  \n",
      "0                    NaN  per capita  \n",
      "1              % growth     % growth  \n",
      "2                   2019        2019  \n",
      "3                    3.9         1.5  \n",
      "4                    2.2         2.7  \n",
      "5                    0.8        -1.1  \n",
      "6                    2.2         2.5  \n",
      "7                    1.8         1.7  \n",
      "8                   -0.6        -3.8  \n",
      "9                    4.7         3.8  \n"
     ]
    }
   ],
   "source": [
    "# Writing an iterator to load data in chunks \n",
    "\n",
    "import pandas as pd\n",
    "\n",
    "world_bank = pd.read_csv('world_bank.csv', chunksize=10)\n",
    "world_bank_pop = next(world_bank)\n",
    "print(world_bank_pop)"
   ]
  },
  {
   "cell_type": "code",
   "execution_count": 77,
   "id": "316afcf4",
   "metadata": {},
   "outputs": [
    {
     "name": "stdout",
     "output_type": "stream",
     "text": [
      "[('Country', 'Country'), ('Population', 'Population'), ('Surface area', 'Surface area'), ('Population density', 'Population density'), ('Gross national income, Atlas method', 'Gross national income, Atlas method'), ('Gross national income per capita, Atlas method', 'Gross national income per capita, Atlas method'), ('Purchasing power parity gross national income', 'Purchasing power parity gross national income'), ('Unnamed: 7', 'Unnamed: 7'), ('Gross domestic product', 'Gross domestic product'), ('Unnamed: 9', 'Unnamed: 9')]\n"
     ]
    }
   ],
   "source": [
    "world_bank_pak_pop = world_bank_pop[world_bank_pop['Population'] == 'Pakistan']\n",
    "world_bank_pak_pop_density = world_bank_pop[world_bank_pop['Population density'] == 'Pakistan']\n",
    "pop = zip(world_bank_pak_pop, world_bank_pak_pop_density)\n",
    "pop_list = list(pop)\n",
    "print(pop_list)"
   ]
  },
  {
   "cell_type": "code",
   "execution_count": null,
   "id": "465ab386",
   "metadata": {},
   "outputs": [],
   "source": []
  }
 ],
 "metadata": {
  "kernelspec": {
   "display_name": "Python 3",
   "language": "python",
   "name": "python3"
  },
  "language_info": {
   "codemirror_mode": {
    "name": "ipython",
    "version": 3
   },
   "file_extension": ".py",
   "mimetype": "text/x-python",
   "name": "python",
   "nbconvert_exporter": "python",
   "pygments_lexer": "ipython3",
   "version": "3.8.8"
  }
 },
 "nbformat": 4,
 "nbformat_minor": 5
}
