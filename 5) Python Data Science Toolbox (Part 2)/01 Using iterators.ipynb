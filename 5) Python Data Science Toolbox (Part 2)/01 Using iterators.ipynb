{
 "cells": [
  {
   "cell_type": "markdown",
   "id": "b4bb615e",
   "metadata": {},
   "source": [
    "# Iterators- Trimming large files\n",
    "\n",
    "1) Using zip to join lists\n",
    "\n",
    "2) Using iterators to load large files into memory"
   ]
  },
  {
   "cell_type": "code",
   "execution_count": 9,
   "id": "3e815901",
   "metadata": {},
   "outputs": [
    {
     "name": "stdout",
     "output_type": "stream",
     "text": [
      "Ian Yasin\n",
      "James John\n",
      "Jack Dorsey\n",
      "Sam Bill\n",
      "Ian Yasin\n",
      "James John\n",
      "Jack Dorsey\n",
      "Sam Bill\n"
     ]
    }
   ],
   "source": [
    "# You will create an iterator for the list and access the values from the iterator.\n",
    "names = ['Ian Yasin', \"James John\", \"Jack Dorsey\", \"Sam Bill\"]\n",
    "\n",
    "for person in names:\n",
    "    print(person)\n",
    "    \n",
    "hero = iter(names)\n",
    "print(next(hero))\n",
    "print(next(hero))\n",
    "print(next(hero))\n",
    "print(next(hero))"
   ]
  },
  {
   "cell_type": "code",
   "execution_count": 10,
   "id": "2a6d31c6",
   "metadata": {},
   "outputs": [
    {
     "name": "stdout",
     "output_type": "stream",
     "text": [
      "range(10, 21)\n",
      "[10, 11, 12, 13, 14, 15, 16, 17, 18, 19, 20]\n",
      "165\n"
     ]
    }
   ],
   "source": [
    "# Iterators as function arguments\n",
    "\n",
    "# Create a range object: values\n",
    "values = range(10, 21)\n",
    "\n",
    "# Print the range object\n",
    "print(values)\n",
    "\n",
    "# Create a list of integers: values_list\n",
    "values_list = list(values)\n",
    "\n",
    "# Print values_list\n",
    "print(values_list)\n",
    "\n",
    "# Get the sum of values: values_sum\n",
    "values_sum = sum(values)\n",
    "\n",
    "# Print values_sum\n",
    "print(values_sum)"
   ]
  },
  {
   "cell_type": "code",
   "execution_count": 11,
   "id": "8672bae1",
   "metadata": {},
   "outputs": [
    {
     "name": "stdout",
     "output_type": "stream",
     "text": [
      "[(0, 'Ian Yasin'), (1, 'James John'), (2, 'Jack Dorsey'), (3, 'Sam Bill')]\n"
     ]
    }
   ],
   "source": [
    "# Using Enumerate\n",
    "\n",
    "names = ['Ian Yasin', \"James John\", \"Jack Dorsey\", \"Sam Bill\"]\n",
    "names_list = list(enumerate(names))\n",
    "print(names_list)"
   ]
  },
  {
   "cell_type": "code",
   "execution_count": 12,
   "id": "c0b8d53c",
   "metadata": {},
   "outputs": [
    {
     "name": "stdout",
     "output_type": "stream",
     "text": [
      "0 (0, 'Ian Yasin')\n",
      "1 (1, 'James John')\n",
      "2 (2, 'Jack Dorsey')\n",
      "3 (3, 'Sam Bill')\n",
      "1 Ian Yasin\n",
      "2 James John\n",
      "3 Jack Dorsey\n",
      "4 Sam Bill\n"
     ]
    }
   ],
   "source": [
    "# Unpack and print the tuple pairs\n",
    "for index1, value1 in enumerate(names_list):\n",
    "    print(index1, value1)\n",
    "\n",
    "# Change the start index\n",
    "for index2, value2 in enumerate(names, start=1):\n",
    "    print(index2, value2)"
   ]
  },
  {
   "cell_type": "code",
   "execution_count": 14,
   "id": "b18e4cfd",
   "metadata": {},
   "outputs": [
    {
     "name": "stdout",
     "output_type": "stream",
     "text": [
      "[('alpha', 'human', 'magic'), ('beta', 'angels', 'fight')]\n",
      "<zip object at 0x000001B26DFF4E00>\n",
      "alpha human magic\n",
      "beta angels fight\n"
     ]
    }
   ],
   "source": [
    "# Using zip\n",
    "\n",
    "# Another interesting function that you've learned is zip(), which takes \n",
    "# any number of iterables and returns a zip object that is an iterator of \n",
    "# tuples.\n",
    "\n",
    "# First, you will use list() and zip() on these lists to generate a list \n",
    "# of tuples. Then, you will create a zip object using zip(). Finally, you \n",
    "# will unpack this zip object in a for loop to print values in each tuple.\n",
    "\n",
    "# Three lists of strings are pre-loaded: mutants, aliases, and powers\n",
    "\n",
    "mutants = ['alpha', 'beta', 'gamma']\n",
    "aliases = ['human', 'angels']\n",
    "powers = ['magic', 'fight']\n",
    "\n",
    "# Create a list of tuples: mutant_data\n",
    "mutant_data = list(zip(mutants, aliases, powers))\n",
    "\n",
    "# Print the list of tuples\n",
    "print(mutant_data)\n",
    "\n",
    "# Create a zip object using the three lists: mutant_zip\n",
    "mutant_zip = zip(mutants, aliases, powers)\n",
    "\n",
    "# Print the zip object\n",
    "print(mutant_zip)\n",
    "\n",
    "# Unpack the zip object and print the tuple values\n",
    "for value1, value2, value3 in mutant_zip:\n",
    "    print(value1, value2, value3)"
   ]
  },
  {
   "cell_type": "code",
   "execution_count": 20,
   "id": "ba0ff978",
   "metadata": {},
   "outputs": [
    {
     "name": "stdout",
     "output_type": "stream",
     "text": [
      "('alpha', 'magic') ('beta', 'fight')\n",
      "False\n",
      "False\n"
     ]
    }
   ],
   "source": [
    "# Create a zip object from mutants and powers: z1\n",
    "z1 = zip(mutants, powers)\n",
    "\n",
    "# Print the tuples in z1 by unpacking with *\n",
    "# have used the splat operator (*) to print all the elements!\n",
    "print(*z1)\n",
    "\n",
    "# Re-create a zip object from mutants and powers: z1\n",
    "z1 = zip(mutants, powers)\n",
    "\n",
    "# 'Unzip' the tuples in z1 by unpacking with * and zip(): result1, result2\n",
    "result1, result2 = zip(*z1)\n",
    "\n",
    "# Check if unpacked tuples are equivalent to original tuples\n",
    "print(result1 == mutants)\n",
    "print(result2 == powers)"
   ]
  },
  {
   "cell_type": "code",
   "execution_count": 29,
   "id": "5f6ac8c5",
   "metadata": {},
   "outputs": [
    {
     "name": "stdout",
     "output_type": "stream",
     "text": [
      "{'en': 97, 'et': 1, 'und': 2}\n"
     ]
    }
   ],
   "source": [
    "# Processing large amounts of Twitter data\n",
    "\n",
    "import pandas as pd\n",
    "counts_dict = {}\n",
    "\n",
    "for chunk in pd.read_csv('./tweets.csv', chunksize=10):\n",
    "    for entry in chunk['lang']:\n",
    "        if entry in counts_dict.keys():\n",
    "            counts_dict[entry] += 1\n",
    "        else:\n",
    "            counts_dict[entry] = 1\n",
    "print(counts_dict)"
   ]
  },
  {
   "cell_type": "code",
   "execution_count": 30,
   "id": "c157c9a8",
   "metadata": {},
   "outputs": [
    {
     "name": "stdout",
     "output_type": "stream",
     "text": [
      "{'en': 97, 'et': 1, 'und': 2}\n"
     ]
    }
   ],
   "source": [
    "# Extracting information for large amounts of Twitter data\n",
    "\n",
    "# you will be making your code more reusable by putting your work in \n",
    "# the last exercise in a function definition.\n",
    "\n",
    "\n",
    "# Define count_entries()\n",
    "def count_entries(csv_file, c_size, colname):\n",
    "    \"\"\"Return a dictionary with counts of\n",
    "    occurrences as value for each key.\"\"\"\n",
    "    \n",
    "    # Initialize an empty dictionary: counts_dict\n",
    "    counts_dict = {}\n",
    "\n",
    "    # Iterate over the file chunk by chunk\n",
    "    for chunk in pd.read_csv(csv_file, chunksize=c_size):\n",
    "\n",
    "        # Iterate over the column in DataFrame\n",
    "        for entry in chunk[colname]:\n",
    "            if entry in counts_dict.keys():\n",
    "                counts_dict[entry] += 1\n",
    "            else:\n",
    "                counts_dict[entry] = 1\n",
    "\n",
    "    # Return counts_dict\n",
    "    return counts_dict\n",
    "\n",
    "# Call count_entries(): result_counts\n",
    "result_counts = count_entries(csv_file = 'tweets.csv', c_size=10, colname='lang')\n",
    "\n",
    "# Print result_counts\n",
    "print(result_counts)"
   ]
  },
  {
   "cell_type": "code",
   "execution_count": null,
   "id": "56cae05c",
   "metadata": {},
   "outputs": [],
   "source": []
  }
 ],
 "metadata": {
  "kernelspec": {
   "display_name": "Python 3",
   "language": "python",
   "name": "python3"
  },
  "language_info": {
   "codemirror_mode": {
    "name": "ipython",
    "version": 3
   },
   "file_extension": ".py",
   "mimetype": "text/x-python",
   "name": "python",
   "nbconvert_exporter": "python",
   "pygments_lexer": "ipython3",
   "version": "3.8.8"
  }
 },
 "nbformat": 4,
 "nbformat_minor": 5
}
