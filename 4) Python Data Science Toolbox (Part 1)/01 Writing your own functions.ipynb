{
 "cells": [
  {
   "cell_type": "markdown",
   "id": "bc36107d",
   "metadata": {},
   "source": [
    "# Functions\n",
    "\n",
    "1) Define functions without parameters\n",
    "\n",
    "2) Define functions with one parameter\n",
    "\n",
    "3) Define functions that return a value\n",
    "\n",
    "4) Later: multiple arguments, multiple return values"
   ]
  },
  {
   "cell_type": "code",
   "execution_count": 4,
   "id": "125266c4",
   "metadata": {},
   "outputs": [
    {
     "name": "stdout",
     "output_type": "stream",
     "text": [
      "<class 'str'>\n",
      "5\n"
     ]
    },
    {
     "data": {
      "text/plain": [
       "(None, None)"
      ]
     },
     "execution_count": 4,
     "metadata": {},
     "output_type": "execute_result"
    }
   ],
   "source": [
    "x = str(5)\n",
    "print(type(x)) , print(x)"
   ]
  },
  {
   "cell_type": "code",
   "execution_count": 6,
   "id": "ae7f6cd3",
   "metadata": {},
   "outputs": [
    {
     "name": "stdout",
     "output_type": "stream",
     "text": [
      "16\n"
     ]
    }
   ],
   "source": [
    "def square(value):\n",
    "    new_value = value ** 2\n",
    "    print(new_value)\n",
    "    \n",
    "square(4)"
   ]
  },
  {
   "cell_type": "code",
   "execution_count": 7,
   "id": "19360b9d",
   "metadata": {},
   "outputs": [
    {
     "name": "stdout",
     "output_type": "stream",
     "text": [
      "25\n"
     ]
    }
   ],
   "source": [
    "square(5)"
   ]
  },
  {
   "cell_type": "code",
   "execution_count": 8,
   "id": "66111adb",
   "metadata": {},
   "outputs": [
    {
     "name": "stdout",
     "output_type": "stream",
     "text": [
      "16\n"
     ]
    }
   ],
   "source": [
    "# Return values from functions\n",
    "# Docstrings describe what your function does\n",
    "\n",
    "def square(value):\n",
    "    \"\"\"Return the square of a value.\"\"\"\n",
    "    new_value = value ** 2\n",
    "    return new_value\n",
    "num = square(4)\n",
    "\n",
    "print(num)"
   ]
  },
  {
   "cell_type": "code",
   "execution_count": 13,
   "id": "61715ee9",
   "metadata": {},
   "outputs": [
    {
     "name": "stdout",
     "output_type": "stream",
     "text": [
      "8\n",
      "<class 'int'>\n"
     ]
    }
   ],
   "source": [
    "# Multiple function parameters\n",
    "\n",
    "def raise_to_power(value1, value2):\n",
    "    \"\"\"\"Raise value1 to the power of value2\"\"\"\n",
    "    new_value = value1 ** value2\n",
    "    return new_value\n",
    "\n",
    "result = raise_to_power(2,3)\n",
    "print(result)\n",
    "print(type(raise_to_power(2,3)))"
   ]
  },
  {
   "cell_type": "code",
   "execution_count": 14,
   "id": "d001c526",
   "metadata": {},
   "outputs": [
    {
     "name": "stdout",
     "output_type": "stream",
     "text": [
      "<class 'tuple'>\n"
     ]
    }
   ],
   "source": [
    "# Tuple\n",
    "even_nums = (2, 4)\n",
    "print(type(even_nums))"
   ]
  },
  {
   "cell_type": "code",
   "execution_count": 17,
   "id": "0cd093f6",
   "metadata": {},
   "outputs": [
    {
     "name": "stdout",
     "output_type": "stream",
     "text": [
      "2\n",
      "4\n",
      "6\n"
     ]
    },
    {
     "data": {
      "text/plain": [
       "(None, None, None)"
      ]
     },
     "execution_count": 17,
     "metadata": {},
     "output_type": "execute_result"
    }
   ],
   "source": [
    "# Unpacking tuple\n",
    "\n",
    "even_nums = (2, 4, 6)\n",
    "a, b, c =  even_nums\n",
    "print(a), print(b), print(c)"
   ]
  },
  {
   "cell_type": "code",
   "execution_count": 18,
   "id": "b9724a7e",
   "metadata": {},
   "outputs": [
    {
     "name": "stdout",
     "output_type": "stream",
     "text": [
      "4\n"
     ]
    }
   ],
   "source": [
    "# Accessing Tuple elements\n",
    "\n",
    "even_nums = (2, 4, 6)\n",
    "print(even_nums[1])"
   ]
  },
  {
   "cell_type": "code",
   "execution_count": 19,
   "id": "4f681c96",
   "metadata": {},
   "outputs": [
    {
     "name": "stdout",
     "output_type": "stream",
     "text": [
      "4\n"
     ]
    }
   ],
   "source": [
    "# Accessing Tuple elements\n",
    "\n",
    "second_num = even_nums[1]\n",
    "print(second_num)"
   ]
  },
  {
   "cell_type": "code",
   "execution_count": 20,
   "id": "670029ea",
   "metadata": {},
   "outputs": [],
   "source": [
    "# Returning Multiple values\n",
    "\n",
    "def raise_both(value1, value2):\n",
    "    \"\"\"Raise value1 to the power of value2 and vice versa.\"\"\"\n",
    "    \n",
    "    new_value1 = value1 ** value2\n",
    "    new_value2 = value2 ** value1\n",
    "    \n",
    "    new_tuple = (new_value1, new_value2)\n",
    "    \n",
    "    return new_tuple"
   ]
  },
  {
   "cell_type": "code",
   "execution_count": 22,
   "id": "268fc8bc",
   "metadata": {},
   "outputs": [
    {
     "name": "stdout",
     "output_type": "stream",
     "text": [
      "(8, 9)\n"
     ]
    }
   ],
   "source": [
    "result = raise_both(2, 3)\n",
    "print(result)"
   ]
  },
  {
   "cell_type": "code",
   "execution_count": 24,
   "id": "de428af0",
   "metadata": {},
   "outputs": [
    {
     "name": "stdout",
     "output_type": "stream",
     "text": [
      "congrats!!!\n",
      "you!!!\n"
     ]
    }
   ],
   "source": [
    "# Functions with multiple returns\n",
    "\n",
    "def func(word1, word2):\n",
    "    \n",
    "    shout1 = word1 + \"!!!\"\n",
    "    \n",
    "    shout2 = word2 + \"!!!\"\n",
    "    \n",
    "    shout_words = (shout1, shout2)\n",
    "    \n",
    "    return shout_words\n",
    "\n",
    "(result1, result2) = func('congrats', \"you\")\n",
    "\n",
    "print(result1)\n",
    "print(result2)"
   ]
  },
  {
   "cell_type": "code",
   "execution_count": 3,
   "id": "8a5b902f",
   "metadata": {},
   "outputs": [
    {
     "name": "stdout",
     "output_type": "stream",
     "text": [
      "   contributors  coordinates                      created_at  \\\n",
      "0           NaN          NaN  Tue Mar 29 23:40:17 +0000 2016   \n",
      "1           NaN          NaN  Tue Mar 29 23:40:17 +0000 2016   \n",
      "2           NaN          NaN  Tue Mar 29 23:40:17 +0000 2016   \n",
      "3           NaN          NaN  Tue Mar 29 23:40:17 +0000 2016   \n",
      "4           NaN          NaN  Tue Mar 29 23:40:17 +0000 2016   \n",
      "\n",
      "                                            entities  \\\n",
      "0  {'hashtags': [], 'user_mentions': [{'screen_na...   \n",
      "1  {'hashtags': [{'text': 'cruzsexscandal', 'indi...   \n",
      "2  {'hashtags': [], 'user_mentions': [], 'symbols...   \n",
      "3  {'hashtags': [], 'user_mentions': [], 'symbols...   \n",
      "4  {'hashtags': [], 'user_mentions': [{'screen_na...   \n",
      "\n",
      "                                   extended_entities  favorite_count  \\\n",
      "0  {'media': [{'sizes': {'large': {'w': 1024, 'h'...               0   \n",
      "1  {'media': [{'sizes': {'large': {'w': 500, 'h':...               0   \n",
      "2                                                NaN               0   \n",
      "3                                                NaN               0   \n",
      "4                                                NaN               0   \n",
      "\n",
      "   favorited filter_level  geo                  id  ...  quoted_status_id  \\\n",
      "0      False          low  NaN  714960401759387648  ...               NaN   \n",
      "1      False          low  NaN  714960401977319424  ...               NaN   \n",
      "2      False          low  NaN  714960402426236928  ...               NaN   \n",
      "3      False          low  NaN  714960402367561730  ...      7.149239e+17   \n",
      "4      False          low  NaN  714960402149416960  ...               NaN   \n",
      "\n",
      "  quoted_status_id_str  retweet_count  retweeted  \\\n",
      "0                  NaN              0      False   \n",
      "1                  NaN              0      False   \n",
      "2                  NaN              0      False   \n",
      "3         7.149239e+17              0      False   \n",
      "4                  NaN              0      False   \n",
      "\n",
      "                                    retweeted_status  \\\n",
      "0  {'retweeted': False, 'text': \".@krollbondratin...   \n",
      "1  {'retweeted': False, 'text': '@dmartosko Cruz ...   \n",
      "2                                                NaN   \n",
      "3                                                NaN   \n",
      "4  {'retweeted': False, 'text': 'The anti-America...   \n",
      "\n",
      "                                              source  \\\n",
      "0  <a href=\"http://twitter.com\" rel=\"nofollow\">Tw...   \n",
      "1  <a href=\"http://twitter.com\" rel=\"nofollow\">Tw...   \n",
      "2  <a href=\"http://www.facebook.com/twitter\" rel=...   \n",
      "3  <a href=\"http://twitter.com/download/android\" ...   \n",
      "4  <a href=\"http://twitter.com/download/iphone\" r...   \n",
      "\n",
      "                                                text   timestamp_ms truncated  \\\n",
      "0  RT @bpolitics: .@krollbondrating's Christopher...  1459294817758     False   \n",
      "1  RT @HeidiAlpine: @dmartosko Cruz video found.....  1459294817810     False   \n",
      "2  Njihuni me Zonjën Trump !!! | Ekskluzive https...  1459294817917     False   \n",
      "3  Your an idiot she shouldn't have tried to grab...  1459294817903     False   \n",
      "4  RT @AlanLohner: The anti-American D.C. elites ...  1459294817851     False   \n",
      "\n",
      "                                                user  \n",
      "0  {'utc_offset': 3600, 'profile_image_url_https'...  \n",
      "1  {'utc_offset': None, 'profile_image_url_https'...  \n",
      "2  {'utc_offset': 7200, 'profile_image_url_https'...  \n",
      "3  {'utc_offset': None, 'profile_image_url_https'...  \n",
      "4  {'utc_offset': -18000, 'profile_image_url_http...  \n",
      "\n",
      "[5 rows x 31 columns]\n"
     ]
    }
   ],
   "source": [
    "# The dataset contains Twitter data and you will iterate over entries \n",
    "# in a column to build a dictionary in which the keys are the names of \n",
    "# languages and the values are the number of tweets in the given language.\n",
    "\n",
    "import pandas as pd\n",
    "df = pd.read_csv('tweets.csv')\n",
    "\n",
    "print(df.head())"
   ]
  },
  {
   "cell_type": "code",
   "execution_count": 4,
   "id": "7aa21e44",
   "metadata": {},
   "outputs": [
    {
     "name": "stdout",
     "output_type": "stream",
     "text": [
      "{'en': 97, 'et': 1, 'und': 2}\n"
     ]
    }
   ],
   "source": [
    "# Initialize an empty dictionary: langs_count\n",
    "langs_count = {}\n",
    "\n",
    "# Extract column from DataFrame: col\n",
    "col = df['lang']\n",
    "\n",
    "# Iterate over lang column in DataFrame\n",
    "for entry in col:\n",
    "    \n",
    "    # If the language is in langs_count, add 1 \n",
    "    if entry in langs_count.keys():\n",
    "    \n",
    "        langs_count[entry] += 1\n",
    "    # Else add the language to langs_count, set the value to 1\n",
    "    else:\n",
    "        \n",
    "        langs_count[entry] = 1\n",
    "\n",
    "# Print the populated dictionary\n",
    "print(langs_count)"
   ]
  },
  {
   "cell_type": "code",
   "execution_count": 8,
   "id": "e8d7665f",
   "metadata": {},
   "outputs": [
    {
     "data": {
      "text/plain": [
       "120"
      ]
     },
     "execution_count": 8,
     "metadata": {},
     "output_type": "execute_result"
    }
   ],
   "source": [
    "# Python Functions | Python Tutorial for Absolute Beginners #1\n",
    "# https://www.youtube.com/watch?v=u-OmVr_fT4s&t=571s\n",
    "# If the number of arguments is unknown, add a * before the parameter name:\n",
    "\n",
    "def multiply(*numbers):\n",
    "    total = 1\n",
    "    for number in numbers:\n",
    "        total *= number\n",
    "    return total\n",
    "\n",
    "multiply(2 ,3, 4, 5)"
   ]
  },
  {
   "cell_type": "code",
   "execution_count": 12,
   "id": "387ebadd",
   "metadata": {},
   "outputs": [
    {
     "name": "stdout",
     "output_type": "stream",
     "text": [
      "My own a black color BMW\n"
     ]
    }
   ],
   "source": [
    "# https://www.w3schools.com/python/python_functions.asp\n",
    "# If the number of arguments is unknown, add a * before the parameter name:\n",
    "\n",
    "def func(*cars):\n",
    "    print(\"My own a black color \" + cars[2])\n",
    "\n",
    "func(\"Tesla\", \"Porche\", \"BMW\")"
   ]
  },
  {
   "cell_type": "code",
   "execution_count": null,
   "id": "91314372",
   "metadata": {},
   "outputs": [],
   "source": []
  }
 ],
 "metadata": {
  "kernelspec": {
   "display_name": "Python 3",
   "language": "python",
   "name": "python3"
  },
  "language_info": {
   "codemirror_mode": {
    "name": "ipython",
    "version": 3
   },
   "file_extension": ".py",
   "mimetype": "text/x-python",
   "name": "python",
   "nbconvert_exporter": "python",
   "pygments_lexer": "ipython3",
   "version": "3.8.8"
  }
 },
 "nbformat": 4,
 "nbformat_minor": 5
}
